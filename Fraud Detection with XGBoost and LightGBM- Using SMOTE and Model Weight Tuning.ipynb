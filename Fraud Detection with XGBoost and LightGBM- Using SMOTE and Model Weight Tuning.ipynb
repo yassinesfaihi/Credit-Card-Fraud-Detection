{
 "cells": [
  {
   "cell_type": "markdown",
   "id": "077a107e",
   "metadata": {},
   "source": [
    "# Fraud Detection with XGBoost and LightGBM- Using SMOTE and Model Weight Tuning"
   ]
  },
  {
   "cell_type": "markdown",
   "id": "188e4a59",
   "metadata": {},
   "source": [
    "#### [Author]: Yassine Sfaihi"
   ]
  },
  {
   "cell_type": "markdown",
   "id": "ba501731",
   "metadata": {},
   "source": [
    "# Introduction:\n"
   ]
  },
  {
   "cell_type": "markdown",
   "id": "69ecf903",
   "metadata": {},
   "source": [
    "# Background of the dataset:\n"
   ]
  },
  {
   "cell_type": "markdown",
   "id": "5c7634a1",
   "metadata": {},
   "source": [
    "The dataset contains transactions made by European credit cardholders in September 2013. The transactions have been transformed with PCA, with the exception of the 'Time' and 'Amount' features. The 'Class' feature represents whether a transaction is fraudulent (1) or not (0). The dataset is highly imbalanced, with only 0.172% of transactions being fraudulent.\n"
   ]
  },
  {
   "cell_type": "markdown",
   "id": "a93c92b7",
   "metadata": {},
   "source": [
    "# Problem statement and objective of the project:"
   ]
  },
  {
   "cell_type": "markdown",
   "id": "86c62163",
   "metadata": {},
   "source": [
    "The objective of the project is to develop a model that can accurately detect fraudulent credit card transactions. The problem is significant because false positive fraud detections can result in inconvenience for customers, while false negatives can result in monetary losses for the credit card company."
   ]
  },
  {
   "cell_type": "markdown",
   "id": "9b402540",
   "metadata": {},
   "source": [
    "This notebook is focused on detecting fraudulent transactions using machine learning algorithms. The exploratory data analysis (EDA) of the credit card fraud dataset is performed to get an understanding of the data. The algorithms used for the classification of transactions are XGBoost and LightGBM. The notebook also covers the use of Synthetic Minority Over-sampling Technique (SMOTE) to balance the class distribution, and hyperparameter tuning to obtain the best weights for the models.\n"
   ]
  },
  {
   "cell_type": "markdown",
   "id": "239e179c",
   "metadata": {},
   "source": [
    "# Data Preparation"
   ]
  },
  {
   "cell_type": "code",
   "execution_count": 1,
   "id": "cb05589e",
   "metadata": {},
   "outputs": [],
   "source": [
    "import pandas as pd "
   ]
  },
  {
   "cell_type": "code",
   "execution_count": 2,
   "id": "401d0080",
   "metadata": {},
   "outputs": [],
   "source": [
    "df=pd.read_csv(\"/home/yassine/Downloads/creditcard.csv\")"
   ]
  },
  {
   "cell_type": "code",
   "execution_count": 3,
   "id": "c872e597",
   "metadata": {},
   "outputs": [
    {
     "name": "stdout",
     "output_type": "stream",
     "text": [
      "Shape of the dataset: (284807, 31)\n"
     ]
    }
   ],
   "source": [
    "# Shape of the dataset\n",
    "print(\"Shape of the dataset:\", df.shape)"
   ]
  },
  {
   "cell_type": "code",
   "execution_count": 204,
   "id": "04961c14",
   "metadata": {},
   "outputs": [
    {
     "name": "stdout",
     "output_type": "stream",
     "text": [
      "Overview of the data:\n"
     ]
    },
    {
     "data": {
      "text/html": [
       "<div>\n",
       "<style scoped>\n",
       "    .dataframe tbody tr th:only-of-type {\n",
       "        vertical-align: middle;\n",
       "    }\n",
       "\n",
       "    .dataframe tbody tr th {\n",
       "        vertical-align: top;\n",
       "    }\n",
       "\n",
       "    .dataframe thead th {\n",
       "        text-align: right;\n",
       "    }\n",
       "</style>\n",
       "<table border=\"1\" class=\"dataframe\">\n",
       "  <thead>\n",
       "    <tr style=\"text-align: right;\">\n",
       "      <th></th>\n",
       "      <th>Time</th>\n",
       "      <th>V1</th>\n",
       "      <th>V2</th>\n",
       "      <th>V3</th>\n",
       "      <th>V4</th>\n",
       "      <th>V5</th>\n",
       "      <th>V6</th>\n",
       "      <th>V7</th>\n",
       "      <th>V8</th>\n",
       "      <th>V9</th>\n",
       "      <th>...</th>\n",
       "      <th>V21</th>\n",
       "      <th>V22</th>\n",
       "      <th>V23</th>\n",
       "      <th>V24</th>\n",
       "      <th>V25</th>\n",
       "      <th>V26</th>\n",
       "      <th>V27</th>\n",
       "      <th>V28</th>\n",
       "      <th>Amount</th>\n",
       "      <th>Class</th>\n",
       "    </tr>\n",
       "  </thead>\n",
       "  <tbody>\n",
       "    <tr>\n",
       "      <th>175005</th>\n",
       "      <td>122162.0</td>\n",
       "      <td>1.913351</td>\n",
       "      <td>0.379815</td>\n",
       "      <td>-0.878497</td>\n",
       "      <td>3.599326</td>\n",
       "      <td>0.787740</td>\n",
       "      <td>0.909389</td>\n",
       "      <td>-0.049016</td>\n",
       "      <td>0.178154</td>\n",
       "      <td>-0.834806</td>\n",
       "      <td>...</td>\n",
       "      <td>0.084564</td>\n",
       "      <td>0.342333</td>\n",
       "      <td>0.041306</td>\n",
       "      <td>0.182720</td>\n",
       "      <td>0.184600</td>\n",
       "      <td>0.077320</td>\n",
       "      <td>-0.037619</td>\n",
       "      <td>-0.059467</td>\n",
       "      <td>7.56</td>\n",
       "      <td>0</td>\n",
       "    </tr>\n",
       "    <tr>\n",
       "      <th>259162</th>\n",
       "      <td>158991.0</td>\n",
       "      <td>-5.079688</td>\n",
       "      <td>-3.085371</td>\n",
       "      <td>-4.053290</td>\n",
       "      <td>0.310538</td>\n",
       "      <td>3.507393</td>\n",
       "      <td>-0.229835</td>\n",
       "      <td>1.526065</td>\n",
       "      <td>-0.691351</td>\n",
       "      <td>1.408176</td>\n",
       "      <td>...</td>\n",
       "      <td>-1.041825</td>\n",
       "      <td>0.990240</td>\n",
       "      <td>1.567415</td>\n",
       "      <td>-1.096102</td>\n",
       "      <td>-1.223628</td>\n",
       "      <td>0.469088</td>\n",
       "      <td>-0.281352</td>\n",
       "      <td>2.649827</td>\n",
       "      <td>160.00</td>\n",
       "      <td>0</td>\n",
       "    </tr>\n",
       "    <tr>\n",
       "      <th>96296</th>\n",
       "      <td>65704.0</td>\n",
       "      <td>0.906218</td>\n",
       "      <td>-1.098374</td>\n",
       "      <td>0.825706</td>\n",
       "      <td>0.613545</td>\n",
       "      <td>-1.384232</td>\n",
       "      <td>0.291467</td>\n",
       "      <td>-0.820311</td>\n",
       "      <td>0.284303</td>\n",
       "      <td>-0.504918</td>\n",
       "      <td>...</td>\n",
       "      <td>-0.077426</td>\n",
       "      <td>0.004004</td>\n",
       "      <td>-0.122906</td>\n",
       "      <td>0.181771</td>\n",
       "      <td>0.288475</td>\n",
       "      <td>-0.233871</td>\n",
       "      <td>0.052715</td>\n",
       "      <td>0.045439</td>\n",
       "      <td>158.00</td>\n",
       "      <td>0</td>\n",
       "    </tr>\n",
       "    <tr>\n",
       "      <th>181944</th>\n",
       "      <td>125192.0</td>\n",
       "      <td>-1.950316</td>\n",
       "      <td>0.964217</td>\n",
       "      <td>0.159607</td>\n",
       "      <td>-2.142268</td>\n",
       "      <td>0.001737</td>\n",
       "      <td>-0.568556</td>\n",
       "      <td>0.347199</td>\n",
       "      <td>1.015335</td>\n",
       "      <td>-0.371888</td>\n",
       "      <td>...</td>\n",
       "      <td>-0.217610</td>\n",
       "      <td>-1.106515</td>\n",
       "      <td>-0.185501</td>\n",
       "      <td>0.681057</td>\n",
       "      <td>0.536678</td>\n",
       "      <td>0.880489</td>\n",
       "      <td>-0.279808</td>\n",
       "      <td>-0.104760</td>\n",
       "      <td>39.00</td>\n",
       "      <td>0</td>\n",
       "    </tr>\n",
       "    <tr>\n",
       "      <th>275457</th>\n",
       "      <td>166542.0</td>\n",
       "      <td>-0.089938</td>\n",
       "      <td>0.511432</td>\n",
       "      <td>0.883198</td>\n",
       "      <td>-0.647320</td>\n",
       "      <td>-0.296266</td>\n",
       "      <td>-0.421553</td>\n",
       "      <td>0.408877</td>\n",
       "      <td>-0.038751</td>\n",
       "      <td>0.519104</td>\n",
       "      <td>...</td>\n",
       "      <td>-0.158415</td>\n",
       "      <td>-0.554058</td>\n",
       "      <td>0.296128</td>\n",
       "      <td>1.117239</td>\n",
       "      <td>-0.927755</td>\n",
       "      <td>0.077088</td>\n",
       "      <td>-0.260669</td>\n",
       "      <td>0.018302</td>\n",
       "      <td>41.93</td>\n",
       "      <td>0</td>\n",
       "    </tr>\n",
       "  </tbody>\n",
       "</table>\n",
       "<p>5 rows × 31 columns</p>\n",
       "</div>"
      ],
      "text/plain": [
       "            Time        V1        V2        V3        V4        V5        V6  \\\n",
       "175005  122162.0  1.913351  0.379815 -0.878497  3.599326  0.787740  0.909389   \n",
       "259162  158991.0 -5.079688 -3.085371 -4.053290  0.310538  3.507393 -0.229835   \n",
       "96296    65704.0  0.906218 -1.098374  0.825706  0.613545 -1.384232  0.291467   \n",
       "181944  125192.0 -1.950316  0.964217  0.159607 -2.142268  0.001737 -0.568556   \n",
       "275457  166542.0 -0.089938  0.511432  0.883198 -0.647320 -0.296266 -0.421553   \n",
       "\n",
       "              V7        V8        V9  ...       V21       V22       V23  \\\n",
       "175005 -0.049016  0.178154 -0.834806  ...  0.084564  0.342333  0.041306   \n",
       "259162  1.526065 -0.691351  1.408176  ... -1.041825  0.990240  1.567415   \n",
       "96296  -0.820311  0.284303 -0.504918  ... -0.077426  0.004004 -0.122906   \n",
       "181944  0.347199  1.015335 -0.371888  ... -0.217610 -1.106515 -0.185501   \n",
       "275457  0.408877 -0.038751  0.519104  ... -0.158415 -0.554058  0.296128   \n",
       "\n",
       "             V24       V25       V26       V27       V28  Amount  Class  \n",
       "175005  0.182720  0.184600  0.077320 -0.037619 -0.059467    7.56      0  \n",
       "259162 -1.096102 -1.223628  0.469088 -0.281352  2.649827  160.00      0  \n",
       "96296   0.181771  0.288475 -0.233871  0.052715  0.045439  158.00      0  \n",
       "181944  0.681057  0.536678  0.880489 -0.279808 -0.104760   39.00      0  \n",
       "275457  1.117239 -0.927755  0.077088 -0.260669  0.018302   41.93      0  \n",
       "\n",
       "[5 rows x 31 columns]"
      ]
     },
     "execution_count": 204,
     "metadata": {},
     "output_type": "execute_result"
    }
   ],
   "source": [
    "# Overview of the data\n",
    "print(\"Overview of the data:\" )\n",
    "df.head()"
   ]
  },
  {
   "cell_type": "code",
   "execution_count": 7,
   "id": "643439d0",
   "metadata": {},
   "outputs": [
    {
     "name": "stdout",
     "output_type": "stream",
     "text": [
      "Data Types of columns: Time      float64\n",
      "V1        float64\n",
      "V2        float64\n",
      "V3        float64\n",
      "V4        float64\n",
      "V5        float64\n",
      "V6        float64\n",
      "V7        float64\n",
      "V8        float64\n",
      "V9        float64\n",
      "V10       float64\n",
      "V11       float64\n",
      "V12       float64\n",
      "V13       float64\n",
      "V14       float64\n",
      "V15       float64\n",
      "V16       float64\n",
      "V17       float64\n",
      "V18       float64\n",
      "V19       float64\n",
      "V20       float64\n",
      "V21       float64\n",
      "V22       float64\n",
      "V23       float64\n",
      "V24       float64\n",
      "V25       float64\n",
      "V26       float64\n",
      "V27       float64\n",
      "V28       float64\n",
      "Amount    float64\n",
      "Class       int64\n",
      "dtype: object\n"
     ]
    }
   ],
   "source": [
    "print(\"Data Types of columns:\", df.dtypes)\n",
    "\n"
   ]
  },
  {
   "cell_type": "code",
   "execution_count": 8,
   "id": "962e7368",
   "metadata": {},
   "outputs": [
    {
     "name": "stdout",
     "output_type": "stream",
     "text": [
      "Description of the dataset:\n"
     ]
    },
    {
     "data": {
      "text/html": [
       "<div>\n",
       "<style scoped>\n",
       "    .dataframe tbody tr th:only-of-type {\n",
       "        vertical-align: middle;\n",
       "    }\n",
       "\n",
       "    .dataframe tbody tr th {\n",
       "        vertical-align: top;\n",
       "    }\n",
       "\n",
       "    .dataframe thead th {\n",
       "        text-align: right;\n",
       "    }\n",
       "</style>\n",
       "<table border=\"1\" class=\"dataframe\">\n",
       "  <thead>\n",
       "    <tr style=\"text-align: right;\">\n",
       "      <th></th>\n",
       "      <th>Time</th>\n",
       "      <th>V1</th>\n",
       "      <th>V2</th>\n",
       "      <th>V3</th>\n",
       "      <th>V4</th>\n",
       "      <th>V5</th>\n",
       "      <th>V6</th>\n",
       "      <th>V7</th>\n",
       "      <th>V8</th>\n",
       "      <th>V9</th>\n",
       "      <th>...</th>\n",
       "      <th>V21</th>\n",
       "      <th>V22</th>\n",
       "      <th>V23</th>\n",
       "      <th>V24</th>\n",
       "      <th>V25</th>\n",
       "      <th>V26</th>\n",
       "      <th>V27</th>\n",
       "      <th>V28</th>\n",
       "      <th>Amount</th>\n",
       "      <th>Class</th>\n",
       "    </tr>\n",
       "  </thead>\n",
       "  <tbody>\n",
       "    <tr>\n",
       "      <th>count</th>\n",
       "      <td>284807.000000</td>\n",
       "      <td>2.848070e+05</td>\n",
       "      <td>2.848070e+05</td>\n",
       "      <td>2.848070e+05</td>\n",
       "      <td>2.848070e+05</td>\n",
       "      <td>2.848070e+05</td>\n",
       "      <td>2.848070e+05</td>\n",
       "      <td>2.848070e+05</td>\n",
       "      <td>2.848070e+05</td>\n",
       "      <td>2.848070e+05</td>\n",
       "      <td>...</td>\n",
       "      <td>2.848070e+05</td>\n",
       "      <td>2.848070e+05</td>\n",
       "      <td>2.848070e+05</td>\n",
       "      <td>2.848070e+05</td>\n",
       "      <td>2.848070e+05</td>\n",
       "      <td>2.848070e+05</td>\n",
       "      <td>2.848070e+05</td>\n",
       "      <td>2.848070e+05</td>\n",
       "      <td>284807.000000</td>\n",
       "      <td>284807.000000</td>\n",
       "    </tr>\n",
       "    <tr>\n",
       "      <th>mean</th>\n",
       "      <td>94813.859575</td>\n",
       "      <td>3.918649e-15</td>\n",
       "      <td>5.682686e-16</td>\n",
       "      <td>-8.761736e-15</td>\n",
       "      <td>2.811118e-15</td>\n",
       "      <td>-1.552103e-15</td>\n",
       "      <td>2.040130e-15</td>\n",
       "      <td>-1.698953e-15</td>\n",
       "      <td>-1.893285e-16</td>\n",
       "      <td>-3.147640e-15</td>\n",
       "      <td>...</td>\n",
       "      <td>1.473120e-16</td>\n",
       "      <td>8.042109e-16</td>\n",
       "      <td>5.282512e-16</td>\n",
       "      <td>4.456271e-15</td>\n",
       "      <td>1.426896e-15</td>\n",
       "      <td>1.701640e-15</td>\n",
       "      <td>-3.662252e-16</td>\n",
       "      <td>-1.217809e-16</td>\n",
       "      <td>88.349619</td>\n",
       "      <td>0.001727</td>\n",
       "    </tr>\n",
       "    <tr>\n",
       "      <th>std</th>\n",
       "      <td>47488.145955</td>\n",
       "      <td>1.958696e+00</td>\n",
       "      <td>1.651309e+00</td>\n",
       "      <td>1.516255e+00</td>\n",
       "      <td>1.415869e+00</td>\n",
       "      <td>1.380247e+00</td>\n",
       "      <td>1.332271e+00</td>\n",
       "      <td>1.237094e+00</td>\n",
       "      <td>1.194353e+00</td>\n",
       "      <td>1.098632e+00</td>\n",
       "      <td>...</td>\n",
       "      <td>7.345240e-01</td>\n",
       "      <td>7.257016e-01</td>\n",
       "      <td>6.244603e-01</td>\n",
       "      <td>6.056471e-01</td>\n",
       "      <td>5.212781e-01</td>\n",
       "      <td>4.822270e-01</td>\n",
       "      <td>4.036325e-01</td>\n",
       "      <td>3.300833e-01</td>\n",
       "      <td>250.120109</td>\n",
       "      <td>0.041527</td>\n",
       "    </tr>\n",
       "    <tr>\n",
       "      <th>min</th>\n",
       "      <td>0.000000</td>\n",
       "      <td>-5.640751e+01</td>\n",
       "      <td>-7.271573e+01</td>\n",
       "      <td>-4.832559e+01</td>\n",
       "      <td>-5.683171e+00</td>\n",
       "      <td>-1.137433e+02</td>\n",
       "      <td>-2.616051e+01</td>\n",
       "      <td>-4.355724e+01</td>\n",
       "      <td>-7.321672e+01</td>\n",
       "      <td>-1.343407e+01</td>\n",
       "      <td>...</td>\n",
       "      <td>-3.483038e+01</td>\n",
       "      <td>-1.093314e+01</td>\n",
       "      <td>-4.480774e+01</td>\n",
       "      <td>-2.836627e+00</td>\n",
       "      <td>-1.029540e+01</td>\n",
       "      <td>-2.604551e+00</td>\n",
       "      <td>-2.256568e+01</td>\n",
       "      <td>-1.543008e+01</td>\n",
       "      <td>0.000000</td>\n",
       "      <td>0.000000</td>\n",
       "    </tr>\n",
       "    <tr>\n",
       "      <th>25%</th>\n",
       "      <td>54201.500000</td>\n",
       "      <td>-9.203734e-01</td>\n",
       "      <td>-5.985499e-01</td>\n",
       "      <td>-8.903648e-01</td>\n",
       "      <td>-8.486401e-01</td>\n",
       "      <td>-6.915971e-01</td>\n",
       "      <td>-7.682956e-01</td>\n",
       "      <td>-5.540759e-01</td>\n",
       "      <td>-2.086297e-01</td>\n",
       "      <td>-6.430976e-01</td>\n",
       "      <td>...</td>\n",
       "      <td>-2.283949e-01</td>\n",
       "      <td>-5.423504e-01</td>\n",
       "      <td>-1.618463e-01</td>\n",
       "      <td>-3.545861e-01</td>\n",
       "      <td>-3.171451e-01</td>\n",
       "      <td>-3.269839e-01</td>\n",
       "      <td>-7.083953e-02</td>\n",
       "      <td>-5.295979e-02</td>\n",
       "      <td>5.600000</td>\n",
       "      <td>0.000000</td>\n",
       "    </tr>\n",
       "    <tr>\n",
       "      <th>50%</th>\n",
       "      <td>84692.000000</td>\n",
       "      <td>1.810880e-02</td>\n",
       "      <td>6.548556e-02</td>\n",
       "      <td>1.798463e-01</td>\n",
       "      <td>-1.984653e-02</td>\n",
       "      <td>-5.433583e-02</td>\n",
       "      <td>-2.741871e-01</td>\n",
       "      <td>4.010308e-02</td>\n",
       "      <td>2.235804e-02</td>\n",
       "      <td>-5.142873e-02</td>\n",
       "      <td>...</td>\n",
       "      <td>-2.945017e-02</td>\n",
       "      <td>6.781943e-03</td>\n",
       "      <td>-1.119293e-02</td>\n",
       "      <td>4.097606e-02</td>\n",
       "      <td>1.659350e-02</td>\n",
       "      <td>-5.213911e-02</td>\n",
       "      <td>1.342146e-03</td>\n",
       "      <td>1.124383e-02</td>\n",
       "      <td>22.000000</td>\n",
       "      <td>0.000000</td>\n",
       "    </tr>\n",
       "    <tr>\n",
       "      <th>75%</th>\n",
       "      <td>139320.500000</td>\n",
       "      <td>1.315642e+00</td>\n",
       "      <td>8.037239e-01</td>\n",
       "      <td>1.027196e+00</td>\n",
       "      <td>7.433413e-01</td>\n",
       "      <td>6.119264e-01</td>\n",
       "      <td>3.985649e-01</td>\n",
       "      <td>5.704361e-01</td>\n",
       "      <td>3.273459e-01</td>\n",
       "      <td>5.971390e-01</td>\n",
       "      <td>...</td>\n",
       "      <td>1.863772e-01</td>\n",
       "      <td>5.285536e-01</td>\n",
       "      <td>1.476421e-01</td>\n",
       "      <td>4.395266e-01</td>\n",
       "      <td>3.507156e-01</td>\n",
       "      <td>2.409522e-01</td>\n",
       "      <td>9.104512e-02</td>\n",
       "      <td>7.827995e-02</td>\n",
       "      <td>77.165000</td>\n",
       "      <td>0.000000</td>\n",
       "    </tr>\n",
       "    <tr>\n",
       "      <th>max</th>\n",
       "      <td>172792.000000</td>\n",
       "      <td>2.454930e+00</td>\n",
       "      <td>2.205773e+01</td>\n",
       "      <td>9.382558e+00</td>\n",
       "      <td>1.687534e+01</td>\n",
       "      <td>3.480167e+01</td>\n",
       "      <td>7.330163e+01</td>\n",
       "      <td>1.205895e+02</td>\n",
       "      <td>2.000721e+01</td>\n",
       "      <td>1.559499e+01</td>\n",
       "      <td>...</td>\n",
       "      <td>2.720284e+01</td>\n",
       "      <td>1.050309e+01</td>\n",
       "      <td>2.252841e+01</td>\n",
       "      <td>4.584549e+00</td>\n",
       "      <td>7.519589e+00</td>\n",
       "      <td>3.517346e+00</td>\n",
       "      <td>3.161220e+01</td>\n",
       "      <td>3.384781e+01</td>\n",
       "      <td>25691.160000</td>\n",
       "      <td>1.000000</td>\n",
       "    </tr>\n",
       "  </tbody>\n",
       "</table>\n",
       "<p>8 rows × 31 columns</p>\n",
       "</div>"
      ],
      "text/plain": [
       "                Time            V1            V2            V3            V4  \\\n",
       "count  284807.000000  2.848070e+05  2.848070e+05  2.848070e+05  2.848070e+05   \n",
       "mean    94813.859575  3.918649e-15  5.682686e-16 -8.761736e-15  2.811118e-15   \n",
       "std     47488.145955  1.958696e+00  1.651309e+00  1.516255e+00  1.415869e+00   \n",
       "min         0.000000 -5.640751e+01 -7.271573e+01 -4.832559e+01 -5.683171e+00   \n",
       "25%     54201.500000 -9.203734e-01 -5.985499e-01 -8.903648e-01 -8.486401e-01   \n",
       "50%     84692.000000  1.810880e-02  6.548556e-02  1.798463e-01 -1.984653e-02   \n",
       "75%    139320.500000  1.315642e+00  8.037239e-01  1.027196e+00  7.433413e-01   \n",
       "max    172792.000000  2.454930e+00  2.205773e+01  9.382558e+00  1.687534e+01   \n",
       "\n",
       "                 V5            V6            V7            V8            V9  \\\n",
       "count  2.848070e+05  2.848070e+05  2.848070e+05  2.848070e+05  2.848070e+05   \n",
       "mean  -1.552103e-15  2.040130e-15 -1.698953e-15 -1.893285e-16 -3.147640e-15   \n",
       "std    1.380247e+00  1.332271e+00  1.237094e+00  1.194353e+00  1.098632e+00   \n",
       "min   -1.137433e+02 -2.616051e+01 -4.355724e+01 -7.321672e+01 -1.343407e+01   \n",
       "25%   -6.915971e-01 -7.682956e-01 -5.540759e-01 -2.086297e-01 -6.430976e-01   \n",
       "50%   -5.433583e-02 -2.741871e-01  4.010308e-02  2.235804e-02 -5.142873e-02   \n",
       "75%    6.119264e-01  3.985649e-01  5.704361e-01  3.273459e-01  5.971390e-01   \n",
       "max    3.480167e+01  7.330163e+01  1.205895e+02  2.000721e+01  1.559499e+01   \n",
       "\n",
       "       ...           V21           V22           V23           V24  \\\n",
       "count  ...  2.848070e+05  2.848070e+05  2.848070e+05  2.848070e+05   \n",
       "mean   ...  1.473120e-16  8.042109e-16  5.282512e-16  4.456271e-15   \n",
       "std    ...  7.345240e-01  7.257016e-01  6.244603e-01  6.056471e-01   \n",
       "min    ... -3.483038e+01 -1.093314e+01 -4.480774e+01 -2.836627e+00   \n",
       "25%    ... -2.283949e-01 -5.423504e-01 -1.618463e-01 -3.545861e-01   \n",
       "50%    ... -2.945017e-02  6.781943e-03 -1.119293e-02  4.097606e-02   \n",
       "75%    ...  1.863772e-01  5.285536e-01  1.476421e-01  4.395266e-01   \n",
       "max    ...  2.720284e+01  1.050309e+01  2.252841e+01  4.584549e+00   \n",
       "\n",
       "                V25           V26           V27           V28         Amount  \\\n",
       "count  2.848070e+05  2.848070e+05  2.848070e+05  2.848070e+05  284807.000000   \n",
       "mean   1.426896e-15  1.701640e-15 -3.662252e-16 -1.217809e-16      88.349619   \n",
       "std    5.212781e-01  4.822270e-01  4.036325e-01  3.300833e-01     250.120109   \n",
       "min   -1.029540e+01 -2.604551e+00 -2.256568e+01 -1.543008e+01       0.000000   \n",
       "25%   -3.171451e-01 -3.269839e-01 -7.083953e-02 -5.295979e-02       5.600000   \n",
       "50%    1.659350e-02 -5.213911e-02  1.342146e-03  1.124383e-02      22.000000   \n",
       "75%    3.507156e-01  2.409522e-01  9.104512e-02  7.827995e-02      77.165000   \n",
       "max    7.519589e+00  3.517346e+00  3.161220e+01  3.384781e+01   25691.160000   \n",
       "\n",
       "               Class  \n",
       "count  284807.000000  \n",
       "mean        0.001727  \n",
       "std         0.041527  \n",
       "min         0.000000  \n",
       "25%         0.000000  \n",
       "50%         0.000000  \n",
       "75%         0.000000  \n",
       "max         1.000000  \n",
       "\n",
       "[8 rows x 31 columns]"
      ]
     },
     "execution_count": 8,
     "metadata": {},
     "output_type": "execute_result"
    }
   ],
   "source": [
    "print(\"Description of the dataset:\" )\n",
    "df.describe()\n"
   ]
  },
  {
   "cell_type": "markdown",
   "id": "2eaf5ad8",
   "metadata": {},
   "source": [
    "# Distribution of the target variable"
   ]
  },
  {
   "cell_type": "markdown",
   "id": "ad201ad3",
   "metadata": {},
   "source": [
    "### Plotting the distribution of the target variable using seaborn\n"
   ]
  },
  {
   "cell_type": "code",
   "execution_count": 4,
   "id": "0fb94660",
   "metadata": {},
   "outputs": [
    {
     "name": "stdout",
     "output_type": "stream",
     "text": [
      "Class counts: \n",
      " 0    284315\n",
      "1       492\n",
      "Name: Class, dtype: int64\n",
      "\n",
      "Class counts percentage: \n",
      " 0    99.827251\n",
      "1     0.172749\n",
      "Name: Class, dtype: float64\n"
     ]
    }
   ],
   "source": [
    "# Calculating the class counts and percentage\n",
    "class_counts = df['Class'].value_counts()\n",
    "class_counts_percentage = df['Class'].value_counts(normalize=True) * 100\n",
    "\n",
    "# Printing the class counts and percentage\n",
    "print(\"Class counts: \\n\", class_counts)\n",
    "print(\"\\nClass counts percentage: \\n\", class_counts_percentage)\n"
   ]
  },
  {
   "cell_type": "code",
   "execution_count": 11,
   "id": "2b6cfcd8",
   "metadata": {},
   "outputs": [
    {
     "data": {
      "image/png": "[encoded data removed]",
      "text/plain": [
       "<Figure size 432x288 with 1 Axes>"
      ]
     },
     "metadata": {
      "needs_background": "light"
     },
     "output_type": "display_data"
    }
   ],
   "source": [
    "import seaborn as sns\n",
    "\n",
    "#Plotting the count of each class in the target variable\n",
    "sns.countplot(x='Class', data=df)\n",
    "\n",
    "#Adding the title, x-axis label and y-axis label to the plot\n",
    "plt.title(\"Distribution of the target variable\")\n",
    "plt.xlabel(\"Class\")\n",
    "plt.ylabel(\"Count\")\n",
    "\n",
    "#Displaying the plot\n",
    "plt.show()"
   ]
  },
  {
   "cell_type": "markdown",
   "id": "5b214ad1",
   "metadata": {},
   "source": [
    "The target variable distribution in the dataset is highly imbalanced with majority of the samples belonging to class 0 (not fraudulent) and only a small proportion of samples belonging to class 1 (fraudulent). This is evident from the count of each target class where there are 284315 samples belonging to class 0 and only 492 samples belonging to class 1. This imbalance in the target variable can potentially impact the performance of the machine learning models and thus, needs to be considered while building and evaluating the models."
   ]
  },
  {
   "cell_type": "markdown",
   "id": "08ed73e7",
   "metadata": {},
   "source": [
    "This code creates a subplot with two plots side by side. The first plot shows the distribution of the amount for class 0 (not fraud) in blue color. The second plot shows the distribution of the amount for class 1 (fraud) in red color. This visual representation helps us understand the distribution of the amount for both classes and helps us identify if there are any significant differences between the two classes. By comparing the two plots, we can potentially identify certain patterns or characteristics that may be indicative of fraudulent transactions."
   ]
  },
  {
   "cell_type": "markdown",
   "id": "2078e927",
   "metadata": {},
   "source": [
    "# Data exploration and visualization"
   ]
  },
  {
   "cell_type": "code",
   "execution_count": 15,
   "id": "b84d7983",
   "metadata": {},
   "outputs": [
    {
     "name": "stderr",
     "output_type": "stream",
     "text": [
      "/home/yassine/anaconda3/lib/python3.9/site-packages/seaborn/distributions.py:2619: FutureWarning: `distplot` is a deprecated function and will be removed in a future version. Please adapt your code to use either `displot` (a figure-level function with similar flexibility) or `histplot` (an axes-level function for histograms).\n",
      "  warnings.warn(msg, FutureWarning)\n"
     ]
    },
    {
     "data": {
      "image/png": "[encoded data removed]",
      "text/plain": [
       "<Figure size 1080x360 with 2 Axes>"
      ]
     },
     "metadata": {
      "needs_background": "light"
     },
     "output_type": "display_data"
    }
   ],
   "source": [
    "import matplotlib.pyplot as plt\n",
    "import seaborn as sns\n",
    "\n",
    "# Create a subplot with two plots side by side\n",
    "fig, axs = plt.subplots(1, 2, figsize=(15, 5))\n",
    "\n",
    "# Plot distribution of amount for class 0\n",
    "sns.distplot(df[df['Class'] == 0]['Amount'], kde=True, ax=axs[0], color='b')\n",
    "axs[0].set_title('Class 0')\n",
    "axs[0].set_xlabel('Amount')\n",
    "axs[0].set_ylabel('Count')\n",
    "\n",
    "# Plot distribution of amount for class 1\n",
    "sns.distplot(df[df['Class'] == 1]['Amount'], kde=True, ax=axs[1], color='r')\n",
    "axs[1].set_title('Class 1')\n",
    "axs[1].set_xlabel('Amount')\n",
    "axs[1].set_ylabel('Count')\n",
    "\n",
    "plt.show()\n"
   ]
  },
  {
   "cell_type": "code",
   "execution_count": 17,
   "id": "91d1e44d",
   "metadata": {},
   "outputs": [
    {
     "data": {
      "image/png": "[encoded data removed]",
      "text/plain": [
       "<Figure size 1080x360 with 1 Axes>"
      ]
     },
     "metadata": {
      "needs_background": "light"
     },
     "output_type": "display_data"
    }
   ],
   "source": [
    "import seaborn as sns\n",
    "import matplotlib.pyplot as plt\n",
    "\n",
    "# Create box plots to show the distribution of variables across classes\n",
    "plt.figure(figsize=(15, 5))\n",
    "sns.boxplot(x='Class', y='Amount', data=df)\n",
    "plt.title('Distribution of Amount Across Classes')\n",
    "plt.xlabel('Class')\n",
    "plt.ylabel('Amount')\n",
    "plt.show()\n",
    "\n"
   ]
  },
  {
   "cell_type": "code",
   "execution_count": 18,
   "id": "5f038ac2",
   "metadata": {},
   "outputs": [
    {
     "data": {
      "image/png": "[encoded data removed]",
      "text/plain": [
       "<Figure size 1440x1440 with 32 Axes>"
      ]
     },
     "metadata": {
      "needs_background": "light"
     },
     "output_type": "display_data"
    }
   ],
   "source": [
    "import matplotlib.pyplot as plt\n",
    "import seaborn as sns\n",
    "\n",
    "# Create a subplot with multiple plots\n",
    "fig, axs = plt.subplots(8, 4, figsize=(20, 20))\n",
    "axs = axs.ravel()\n",
    "\n",
    "# Plot histograms for all columns\n",
    "for i, column in enumerate(df.columns):\n",
    "    sns.histplot(df[column], ax=axs[i])\n",
    "    axs[i].set_title(column)\n",
    "\n",
    "plt.tight_layout()\n",
    "plt.show()\n"
   ]
  },
  {
   "cell_type": "markdown",
   "id": "dd2e0e3e",
   "metadata": {},
   "source": [
    "The above code creates a large subplot with 8 rows and 4 columns, which allows us to visualize the histograms of all the columns in the dataset. The purpose of this plot is to understand the distribution of each variable and whether they are normally distributed or skewed. By examining the histograms, we can see if the data is normally distributed, skewed to the left or right, or has multiple peaks. This information can be useful for preprocessing the data, such as scaling or transforming the variables, and for selecting the appropriate modeling techniques."
   ]
  },
  {
   "cell_type": "markdown",
   "id": "3d53feea",
   "metadata": {},
   "source": [
    "# Missing Data and outliers"
   ]
  },
  {
   "cell_type": "code",
   "execution_count": 5,
   "id": "842f9b84",
   "metadata": {},
   "outputs": [
    {
     "name": "stdout",
     "output_type": "stream",
     "text": [
      "Time      0\n",
      "V1        0\n",
      "V2        0\n",
      "V3        0\n",
      "V4        0\n",
      "V5        0\n",
      "V6        0\n",
      "V7        0\n",
      "V8        0\n",
      "V9        0\n",
      "V10       0\n",
      "V11       0\n",
      "V12       0\n",
      "V13       0\n",
      "V14       0\n",
      "V15       0\n",
      "V16       0\n",
      "V17       0\n",
      "V18       0\n",
      "V19       0\n",
      "V20       0\n",
      "V21       0\n",
      "V22       0\n",
      "V23       0\n",
      "V24       0\n",
      "V25       0\n",
      "V26       0\n",
      "V27       0\n",
      "V28       0\n",
      "Amount    0\n",
      "Class     0\n",
      "dtype: int64\n"
     ]
    }
   ],
   "source": [
    "missing_values = df.isna().sum()\n",
    "print(missing_values)\n"
   ]
  },
  {
   "cell_type": "code",
   "execution_count": null,
   "id": "d295e2a3",
   "metadata": {},
   "outputs": [],
   "source": [
    "import numpy as np\n",
    "\n",
    "# Calculate the IQR (Interquartile Range) for each column\n",
    "Q1 = df.quantile(0.25)\n",
    "Q3 = df.quantile(0.75)\n",
    "IQR = Q3 - Q1\n",
    "\n",
    "# Remove outliers based on IQR\n",
    "df = df[~((df < (Q1 - 1.5 * IQR)) | (df > (Q3 + 1.5 * IQR))).any(axis=1)]"
   ]
  },
  {
   "cell_type": "code",
   "execution_count": null,
   "id": "376a101f",
   "metadata": {},
   "outputs": [],
   "source": [
    "\n",
    "# Check if there are still any NaN or infinite values\n",
    "print(np.sum(np.isnan(df)))\n",
    "print(np.sum(np.isfinite(df)))\n"
   ]
  },
  {
   "cell_type": "markdown",
   "id": "8746a85b",
   "metadata": {},
   "source": [
    "# Resampling and data leakage"
   ]
  },
  {
   "cell_type": "markdown",
   "id": "a0e5fcc8",
   "metadata": {},
   "source": [
    "Resampling and data scaling are crucial steps in the data preparation process. However, it is important to perform these operations within the modeling pipelines to avoid data leakage. Data leakage occurs when information from the test set is used to train the model, which can result in overfitting and poor performance on new, unseen data.\n",
    "\n",
    "To handle the imbalance in the target class, you will use two oversampling techniques, two undersampling techniques, and one combined technique. These techniques aim to balance the target class distribution by either increasing the number of minority class samples or decreasing the number of majority class samples. explain this a bit further"
   ]
  },
  {
   "cell_type": "markdown",
   "id": "ebce049b",
   "metadata": {},
   "source": [
    "# Models and evaluation"
   ]
  },
  {
   "cell_type": "code",
   "execution_count": 6,
   "id": "c07ecc54",
   "metadata": {},
   "outputs": [],
   "source": [
    "import warnings\n",
    "warnings.filterwarnings('ignore')"
   ]
  },
  {
   "cell_type": "code",
   "execution_count": 25,
   "id": "8dc9b75b",
   "metadata": {},
   "outputs": [],
   "source": [
    "# Split the data into features and target\n",
    "X = df.drop('Class', axis=1)\n",
    "y = df['Class']"
   ]
  },
  {
   "cell_type": "markdown",
   "id": "4a2c5fe1",
   "metadata": {},
   "source": [
    "# xgboost classifier and SMOTE"
   ]
  },
  {
   "cell_type": "code",
   "execution_count": null,
   "id": "ff2da82a",
   "metadata": {},
   "outputs": [],
   "source": [
    "import xgboost as xgb\n",
    "from imblearn.pipeline import Pipeline\n",
    "from sklearn.preprocessing import StandardScaler\n",
    "from sklearn.model_selection import cross_val_predict\n",
    "from sklearn.metrics import confusion_matrix, precision_recall_curve, auc, f1_score, recall_score, precision_score\n",
    "import matplotlib.pyplot as plt\n",
    "from imblearn.over_sampling import SMOTE\n",
    "\n",
    "\n",
    "\n",
    "# Create the pipeline with StandardScaler and SMOTE for oversampling\n",
    "pipeline = Pipeline([\n",
    "    ('scaler', StandardScaler()),\n",
    "    ('sampler', SMOTE()),\n",
    "    ('classifier', xgb.XGBClassifier(random_state=42))\n",
    "])\n",
    "\n",
    "# Use cross_val_predict to obtain the predicted probabilities\n",
    "y_scores = cross_val_predict(pipeline, X, y, cv=5, method='predict_proba')[:, 1]\n",
    "\n",
    "# Calculate the confusion matrix\n",
    "y_pred = (y_scores > 0.5).astype(int)"
   ]
  },
  {
   "cell_type": "markdown",
   "id": "abbed05e",
   "metadata": {},
   "source": [
    "# Evaluation of XGboost classifier and SMOTE "
   ]
  },
  {
   "cell_type": "code",
   "execution_count": 31,
   "id": "9a06ff26",
   "metadata": {},
   "outputs": [
    {
     "name": "stdout",
     "output_type": "stream",
     "text": [
      "Precision: 0.770\n",
      "Recall: 0.792\n",
      "F1-Score: 0.781\n"
     ]
    }
   ],
   "source": [
    "# Calculate precision, recall, and f1-score\n",
    "precision = precision_score(y, y_pred)\n",
    "recall = recall_score(y, y_pred)\n",
    "f1 = f1_score(y, y_pred)\n",
    "\n",
    "\n",
    "# Print the metrics\n",
    "\n",
    "print('Precision: {:.3f}'.format(precision.mean()))\n",
    "print('Recall: {:.3f}'.format(recall.mean()))\n",
    "print('F1-Score: {:.3f}'.format(f1.mean()))"
   ]
  },
  {
   "cell_type": "code",
   "execution_count": 29,
   "id": "8fea144b",
   "metadata": {},
   "outputs": [
    {
     "data": {
      "image/png": "[encoded data removed]",
      "text/plain": [
       "<Figure size 432x288 with 1 Axes>"
      ]
     },
     "metadata": {
      "needs_background": "light"
     },
     "output_type": "display_data"
    }
   ],
   "source": [
    "# Plot the precision-recall curve\n",
    "precision, recall, thresholds = precision_recall_curve(y, y_scores)\n",
    "auc_pr = auc(recall, precision)\n",
    "plt.plot(recall, precision, label='AUC-PR: {:.3f}'.format(auc_pr))\n",
    "plt.xlabel('Recall')\n",
    "plt.ylabel('Precision')\n",
    "plt.legend()\n",
    "plt.show()\n"
   ]
  },
  {
   "cell_type": "markdown",
   "id": "a9e2fa26",
   "metadata": {},
   "source": [
    "# XGboost Weight Tuning"
   ]
  },
  {
   "cell_type": "markdown",
   "id": "66909ede",
   "metadata": {},
   "source": [
    "### computing  Class Weight"
   ]
  },
  {
   "cell_type": "code",
   "execution_count": 27,
   "id": "341909e1",
   "metadata": {},
   "outputs": [],
   "source": [
    "from sklearn.utils import compute_class_weight\n",
    "import numpy as np\n",
    "weights = compute_class_weight(class_weight='balanced', classes=np.unique(y), y=y)\n"
   ]
  },
  {
   "cell_type": "code",
   "execution_count": 28,
   "id": "26de8ca5",
   "metadata": {},
   "outputs": [
    {
     "data": {
      "text/plain": [
       "array([  0.50090162, 277.77777778])"
      ]
     },
     "execution_count": 28,
     "metadata": {},
     "output_type": "execute_result"
    }
   ],
   "source": [
    "weights"
   ]
  },
  {
   "cell_type": "markdown",
   "id": "6ab9d5e6",
   "metadata": {},
   "source": [
    "# GridSearchCV XGBoost Weight Tuning"
   ]
  },
  {
   "cell_type": "code",
   "execution_count": 44,
   "id": "0519e31d",
   "metadata": {},
   "outputs": [
    {
     "name": "stdout",
     "output_type": "stream",
     "text": [
      "Best: 0.752366 using {'scale_pos_weight': 0.8}\n",
      "0.730036 (0.168593) with: {'scale_pos_weight': 0.5}\n",
      "0.723482 (0.181266) with: {'scale_pos_weight': 0.6}\n",
      "0.722590 (0.196178) with: {'scale_pos_weight': 0.7}\n",
      "0.752366 (0.159487) with: {'scale_pos_weight': 0.8}\n",
      "0.728423 (0.187918) with: {'scale_pos_weight': 0.9}\n",
      "0.734721 (0.182943) with: {'scale_pos_weight': 1}\n"
     ]
    }
   ],
   "source": [
    "import xgboost as xgb\n",
    "from sklearn.model_selection import GridSearchCV\n",
    "from sklearn.metrics import make_scorer, average_precision_score\n",
    "\n",
    "# Define the parameter grid\n",
    "param_grid = {\n",
    "    'scale_pos_weight': [0.5 ,  0.6 ,  0.7 ,  0.8 ,  0.9 , 1  ],\n",
    "\n",
    "}\n",
    "\n",
    "# Create a custom scoring function based on PRC AUC\n",
    "prc_auc_scorer = make_scorer(average_precision_score, needs_proba=True)\n",
    "\n",
    "# Create the XGBoost classifier\n",
    "clf = xgb.XGBClassifier()\n",
    "\n",
    "# Use GridSearchCV for hyperparameter tuning\n",
    "grid_search = GridSearchCV(clf, param_grid, scoring=prc_auc_scorer, cv=5)\n",
    "\n",
    "# Fit the grid search on the training data\n",
    "\n",
    "\n",
    "grid_result = grid_search.fit(X, y)\n",
    "# report the best configuration\n",
    "print(\"Best: %f using %s\" % (grid_result.best_score_, grid_result.best_params_))\n",
    "# report all configurations\n",
    "means = grid_result.cv_results_['mean_test_score']\n",
    "stds = grid_result.cv_results_['std_test_score']\n",
    "params = grid_result.cv_results_['params']\n",
    "for mean, stdev, param in zip(means, stds, params):\n",
    "    print(\"%f (%f) with: %r\" % (mean, stdev, param))"
   ]
  },
  {
   "cell_type": "markdown",
   "id": "c5b01159",
   "metadata": {},
   "source": [
    "### Retrain And Re-evaluate XGBoost with weights"
   ]
  },
  {
   "cell_type": "code",
   "execution_count": null,
   "id": "d1d70350",
   "metadata": {},
   "outputs": [],
   "source": [
    "# Create the pipeline with StandardScaler \n",
    "pipeline = Pipeline([\n",
    "    ('scaler', StandardScaler()),\n",
    "    \n",
    "    ('classifier', xgb.XGBClassifier(scale_pos_weight = 0.8))\n",
    "])\n",
    "\n",
    "# Use cross_val_predict to obtain the predicted probabilities\n",
    "y_scores = cross_val_predict(pipeline, X, y, cv=5, method='predict_proba')[:, 1]\n",
    "\n",
    "# Calculate the confusion matrix\n",
    "y_pred = (y_scores > 0.5).astype(int)\n",
    "\n"
   ]
  },
  {
   "cell_type": "code",
   "execution_count": 33,
   "id": "e2d89256",
   "metadata": {},
   "outputs": [
    {
     "name": "stdout",
     "output_type": "stream",
     "text": [
      "Precision: 0.932\n",
      "Recall: 0.757\n",
      "F1-Score: 0.835\n"
     ]
    }
   ],
   "source": [
    "# Calculate precision, recall, and f1-score\n",
    "precision = precision_score(y, y_pred)\n",
    "recall = recall_score(y, y_pred)\n",
    "f1 = f1_score(y, y_pred)\n",
    "\n",
    "\n",
    "# Print the metrics\n",
    "\n",
    "print('Precision: {:.3f}'.format(precision.mean()))\n",
    "print('Recall: {:.3f}'.format(recall.mean()))\n",
    "print('F1-Score: {:.3f}'.format(f1.mean()))\n"
   ]
  },
  {
   "cell_type": "code",
   "execution_count": 34,
   "id": "680f0791",
   "metadata": {},
   "outputs": [
    {
     "data": {
      "image/png": "[encoded data removed]",
      "text/plain": [
       "<Figure size 432x288 with 1 Axes>"
      ]
     },
     "metadata": {
      "needs_background": "light"
     },
     "output_type": "display_data"
    }
   ],
   "source": [
    "# Plot the precision-recall curve\n",
    "precision, recall, thresholds = precision_recall_curve(y, y_scores)\n",
    "auc_pr = auc(recall, precision)\n",
    "plt.plot(recall, precision, label='AUC-PR: {:.3f}'.format(auc_pr))\n",
    "plt.xlabel('Recall')\n",
    "plt.ylabel('Precision')\n",
    "plt.legend()\n",
    "plt.show()\n"
   ]
  },
  {
   "cell_type": "markdown",
   "id": "8f4cd8ea",
   "metadata": {},
   "source": [
    "# LightGBM classifier and SMOTE"
   ]
  },
  {
   "cell_type": "code",
   "execution_count": 35,
   "id": "15e53e96",
   "metadata": {},
   "outputs": [],
   "source": [
    "import lightgbm as lgb\n",
    "from imblearn.pipeline import Pipeline\n",
    "from sklearn.preprocessing import StandardScaler\n",
    "from sklearn.model_selection import cross_val_predict\n",
    "from sklearn.metrics import confusion_matrix, precision_recall_curve, auc, f1_score, recall_score, precision_score\n",
    "import matplotlib.pyplot as plt\n",
    "from imblearn.over_sampling import SMOTE\n",
    "\n",
    "\n",
    "\n",
    "# Create the pipeline with StandardScaler and SMOTE for oversampling\n",
    "pipeline = Pipeline([\n",
    "    ('scaler', StandardScaler()),\n",
    "    ('sampler', SMOTE()),\n",
    "    ('classifier', lgb.LGBMClassifier(random_state=42))\n",
    "])\n",
    "\n",
    "# Use cross_val_predict to obtain the predicted probabilities\n",
    "y_scores = cross_val_predict(pipeline, X, y, cv=5, method='predict_proba')[:, 1]\n",
    "\n",
    "# Calculate the confusion matrix\n",
    "y_pred = (y_scores > 0.5).astype(int)\n",
    "confusion_matrix = confusion_matrix(y, y_pred)\n",
    "\n",
    "\n",
    "\n"
   ]
  },
  {
   "cell_type": "markdown",
   "id": "ac372a3d",
   "metadata": {},
   "source": [
    "# Evaluation of LightGBM classifier and SMOTE "
   ]
  },
  {
   "cell_type": "code",
   "execution_count": 36,
   "id": "2f24d03e",
   "metadata": {},
   "outputs": [
    {
     "name": "stdout",
     "output_type": "stream",
     "text": [
      "Precision: 0.712\n",
      "Recall: 0.771\n",
      "F1-Score: 0.740\n"
     ]
    }
   ],
   "source": [
    "# Calculate precision, recall, and f1-score\n",
    "precision = precision_score(y, y_pred)\n",
    "recall = recall_score(y, y_pred)\n",
    "f1 = f1_score(y, y_pred)\n",
    "\n",
    "\n",
    "# Print the metrics\n",
    "\n",
    "print('Precision: {:.3f}'.format(precision))\n",
    "print('Recall: {:.3f}'.format(recall))\n",
    "print('F1-Score: {:.3f}'.format(f1))"
   ]
  },
  {
   "cell_type": "code",
   "execution_count": 37,
   "id": "f6713557",
   "metadata": {},
   "outputs": [
    {
     "data": {
      "image/png": "[encoded data removed]",
      "text/plain": [
       "<Figure size 432x288 with 1 Axes>"
      ]
     },
     "metadata": {
      "needs_background": "light"
     },
     "output_type": "display_data"
    }
   ],
   "source": [
    "\n",
    "# Plot the precision-recall curve\n",
    "precision, recall, thresholds = precision_recall_curve(y, y_scores)\n",
    "auc_pr = auc(recall, precision)\n",
    "plt.plot(recall, precision, label='AUC-PR: {:.3f}'.format(auc_pr))\n",
    "plt.xlabel('Recall')\n",
    "plt.ylabel('Precision')\n",
    "plt.legend()\n",
    "plt.show()"
   ]
  },
  {
   "cell_type": "markdown",
   "id": "9d209e93",
   "metadata": {},
   "source": [
    "# GridSearchCV LightGBM Weight Tuning"
   ]
  },
  {
   "cell_type": "code",
   "execution_count": 40,
   "id": "70135e95",
   "metadata": {},
   "outputs": [
    {
     "name": "stdout",
     "output_type": "stream",
     "text": [
      "Best: 0.266546 using {'scale_pos_weight': 0.5}\n",
      "0.266546 (0.250888) with: {'scale_pos_weight': 0.5}\n",
      "0.127419 (0.077525) with: {'scale_pos_weight': 0.6}\n",
      "0.134979 (0.106969) with: {'scale_pos_weight': 0.7}\n",
      "0.102325 (0.082013) with: {'scale_pos_weight': 0.8}\n",
      "0.146829 (0.031486) with: {'scale_pos_weight': 0.9}\n",
      "0.097103 (0.097214) with: {'scale_pos_weight': 1}\n"
     ]
    }
   ],
   "source": [
    "import xgboost as xgb\n",
    "from sklearn.model_selection import GridSearchCV\n",
    "from sklearn.metrics import make_scorer, average_precision_score\n",
    "# Define the parameter grid\n",
    "param_grid = {\n",
    "    'scale_pos_weight': [0.5 ,  0.6 ,  0.7 ,  0.8 ,  0.9 , 1  ],\n",
    "\n",
    "}\n",
    "\n",
    "# Create a custom scoring function based on PRC AUC\n",
    "prc_auc_scorer = make_scorer(average_precision_score, needs_proba=True)\n",
    "\n",
    "# Create the XGBoost classifier\n",
    "clf = lgb.LGBMClassifier(random_state=42)\n",
    "\n",
    "# Use GridSearchCV for hyperparameter tuning\n",
    "grid_search = GridSearchCV(clf, param_grid, scoring=prc_auc_scorer, cv=5)\n",
    "\n",
    "# Fit the grid search on the training data\n",
    "\n",
    "\n",
    "grid_result = grid_search.fit(X, y)\n",
    "# report the best configuration\n",
    "print(\"Best: %f using %s\" % (grid_result.best_score_, grid_result.best_params_))\n",
    "# report all configurations\n",
    "means = grid_result.cv_results_['mean_test_score']\n",
    "stds = grid_result.cv_results_['std_test_score']\n",
    "params = grid_result.cv_results_['params']\n",
    "for mean, stdev, param in zip(means, stds, params):\n",
    "    print(\"%f (%f) with: %r\" % (mean, stdev, param))"
   ]
  },
  {
   "cell_type": "markdown",
   "id": "e2964c6a",
   "metadata": {},
   "source": [
    "### Retrain And Re-evaluate LightGBM with weights"
   ]
  },
  {
   "cell_type": "code",
   "execution_count": 41,
   "id": "9d3fe74e",
   "metadata": {},
   "outputs": [],
   "source": [
    "import lightgbm as lgb\n",
    "from imblearn.pipeline import Pipeline\n",
    "from sklearn.preprocessing import StandardScaler\n",
    "from sklearn.model_selection import cross_val_predict\n",
    "from sklearn.metrics import confusion_matrix, precision_recall_curve, auc, f1_score, recall_score, precision_score\n",
    "import matplotlib.pyplot as plt\n",
    "from imblearn.over_sampling import SMOTE\n",
    "\n",
    "\n",
    "\n",
    "# Create the pipeline with StandardScaler and SMOTE for oversampling\n",
    "pipeline = Pipeline([\n",
    "    ('scaler', StandardScaler()),\n",
    "    ('sampler', SMOTE()),\n",
    "    ('classifier', lgb.LGBMClassifier(scale_pos_weight= 0.5))\n",
    "])\n",
    "\n",
    "# Use cross_val_predict to obtain the predicted probabilities\n",
    "y_scores = cross_val_predict(pipeline, X, y, cv=5, method='predict_proba')[:, 1]\n",
    "\n",
    "# Calculate the confusion matrix\n",
    "y_pred = (y_scores > 0.5).astype(int)\n",
    "confusion_matrix = confusion_matrix(y, y_pred)\n"
   ]
  },
  {
   "cell_type": "code",
   "execution_count": 42,
   "id": "61cab3da",
   "metadata": {},
   "outputs": [
    {
     "name": "stdout",
     "output_type": "stream",
     "text": [
      "Precision: 0.758\n",
      "Recall: 0.785\n",
      "F1-Score: 0.771\n"
     ]
    }
   ],
   "source": [
    "# Calculate precision, recall, and f1-score\n",
    "precision = precision_score(y, y_pred)\n",
    "recall = recall_score(y, y_pred)\n",
    "f1 = f1_score(y, y_pred)\n",
    "\n",
    "\n",
    "# Print the metrics\n",
    "\n",
    "print('Precision: {:.3f}'.format(precision))\n",
    "print('Recall: {:.3f}'.format(recall))\n",
    "print('F1-Score: {:.3f}'.format(f1))"
   ]
  },
  {
   "cell_type": "code",
   "execution_count": 43,
   "id": "0faf2475",
   "metadata": {},
   "outputs": [
    {
     "data": {
      "image/png": "[encoded data removed]",
      "text/plain": [
       "<Figure size 432x288 with 1 Axes>"
      ]
     },
     "metadata": {
      "needs_background": "light"
     },
     "output_type": "display_data"
    }
   ],
   "source": [
    "\n",
    "# Plot the precision-recall curve\n",
    "precision, recall, thresholds = precision_recall_curve(y, y_scores)\n",
    "auc_pr = auc(recall, precision)\n",
    "plt.plot(recall, precision, label='AUC-PR: {:.3f}'.format(auc_pr))\n",
    "plt.xlabel('Recall')\n",
    "plt.ylabel('Precision')\n",
    "plt.legend()\n",
    "plt.show()"
   ]
  },
  {
   "cell_type": "markdown",
   "id": "8f67681f",
   "metadata": {},
   "source": [
    "# Summary:"
   ]
  },
  {
   "cell_type": "markdown",
   "id": "e22fb476",
   "metadata": {},
   "source": [
    "The code in this notebook performs an exploratory data analysis of a credit card fraud dataset. It also covers binary classification using XGBoost and LightGBM, both with and without oversampling using SMOTE. The notebook includes model weight tuning using GridSearchCV, evaluation of the models using confusion matrix, precision, recall, and f1-score, and visualization of the precision-recall curve with the calculation of AUC-PR"
   ]
  }
 ],
 "metadata": {
  "kernelspec": {
   "display_name": "Python 3 (ipykernel)",
   "language": "python",
   "name": "python3"
  },
  "language_info": {
   "codemirror_mode": {
    "name": "ipython",
    "version": 3
   },
   "file_extension": ".py",
   "mimetype": "text/x-python",
   "name": "python",
   "nbconvert_exporter": "python",
   "pygments_lexer": "ipython3",
   "version": "3.9.7"
  }
 },
 "nbformat": 4,
 "nbformat_minor": 5
}
